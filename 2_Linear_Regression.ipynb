{
 "cells": [
  {
   "cell_type": "code",
   "execution_count": 1,
   "metadata": {},
   "outputs": [
    {
     "data": {
      "text/html": [
       "<style>.container { width:95% !important; }</style>"
      ],
      "text/plain": [
       "<IPython.core.display.HTML object>"
      ]
     },
     "metadata": {},
     "output_type": "display_data"
    }
   ],
   "source": [
    "# Make better use of Jupyter Notebook cell width\n",
    "from IPython.core.display import display, HTML\n",
    "display(HTML(\"<style>.container { width:95% !important; }</style>\"))"
   ]
  },
  {
   "cell_type": "code",
   "execution_count": 2,
   "metadata": {},
   "outputs": [
    {
     "name": "stdout",
     "output_type": "stream",
     "text": [
      "Populating the interactive namespace from numpy and matplotlib\n"
     ]
    }
   ],
   "source": [
    "import pandas as pd\n",
    "import numpy as np\n",
    "import pickle\n",
    "\n",
    "from sklearn.model_selection import train_test_split\n",
    "from sklearn.linear_model import LinearRegression, Ridge\n",
    "from sklearn.preprocessing import StandardScaler, PolynomialFeatures\n",
    "from sklearn.model_selection import KFold\n",
    "from sklearn.linear_model import LinearRegression, Lasso, LassoCV, Ridge, RidgeCV\n",
    "from sklearn.metrics import r2_score\n",
    "\n",
    "from sklearn.linear_model import lars_path\n",
    "%pylab inline\n",
    "import seaborn as sns"
   ]
  },
  {
   "cell_type": "markdown",
   "metadata": {},
   "source": [
    "## Functions"
   ]
  },
  {
   "cell_type": "code",
   "execution_count": 3,
   "metadata": {},
   "outputs": [],
   "source": [
    "def simple_validation_models(df, target):\n",
    "    '''\n",
    "    Compiles linear regression models with simple validation to check for R^2 scores for four models:\n",
    "        Simple Linear Regression, Ridge Regression, Lasso and Polynomial Regression.\n",
    "    \n",
    "    Inputs are dataframe and name of the target column.\n",
    "    \n",
    "    Prints R^2 scores for each model as well as coefficients for the Linear Regression and Ridge Regression models.\n",
    "    '''\n",
    "    X, y = df.drop(target, axis=1), df[target]\n",
    "    \n",
    "    # hold out 20% of the data for final testing\n",
    "    X, X_test, y, y_test = train_test_split(X, y, test_size=0.2, random_state=12)\n",
    "    \n",
    "    # further partition X, y into X_train, y_train (60% of original) and X_val, y_val(20%)\n",
    "    X_train, X_val, y_train, y_val = train_test_split(X, y, test_size=.25, random_state=5)\n",
    "    \n",
    "    linreg = LinearRegression()\n",
    "    linreg.fit(X_train, y_train)\n",
    "    print(f'Linear Regression train R^2: {linreg.score(X_train, y_train):.3f}')\n",
    "    print(f'Linear Regression validation R^2: {linreg.score(X_val, y_val):.3f} \\n')\n",
    "    print('Linear Regression coefficient results:')\n",
    "    for feature, coef in zip(X.columns, linreg.coef_):\n",
    "        print(feature, ':', f'{coef:.2f}')\n",
    "    print('\\n')\n",
    "    \n",
    "    # feature scaling for train-val-test so that we can run the ridge model on each\n",
    "    scaler = StandardScaler()\n",
    "    X_train_scaled = scaler.fit_transform(X_train.values)\n",
    "    X_val_scaled = scaler.transform(X_val.values)\n",
    "    X_test_scaled = scaler.transform(X_test.values)\n",
    "\n",
    "    ridge = Ridge(alpha=1)\n",
    "    ridge.fit(X_train_scaled, y_train)\n",
    "    print(f'Ridge Regression train R^2: {ridge.score(X_train_scaled, y_train):.3f}')\n",
    "    print(f'Ridge Regression validation R^2: {ridge.score(X_val_scaled, y_val):.3f} \\n')\n",
    "    print('Ridge Regression coefficient results:')\n",
    "    for feature, coef in zip(X.columns, ridge.coef_):\n",
    "        print(feature, ':', f'{coef:.2f}')\n",
    "    print('\\n')\n",
    "\n",
    "    lasso = Lasso(alpha=10000)\n",
    "    lasso.fit(X_train_scaled, y_train)\n",
    "    print(f'Lasso train R^2: {lasso.score(X_train_scaled, y_train):.3f}')\n",
    "    print(f'Lasso validation R^2: {lasso.score(X_val_scaled, y_val):.3f} \\n')\n",
    "    print('Lasso coefficient results:')\n",
    "    for feature, coef in zip(X.columns, lasso.coef_):\n",
    "        print(feature, ':', f'{coef:.2f}')\n",
    "    print('\\n')\n",
    "\n",
    "    # feature transforms for train-val-test in order to run poly model on each\n",
    "    poly = PolynomialFeatures(degree=2) \n",
    "    X_train_poly = poly.fit_transform(X_train.values)\n",
    "    X_val_poly = poly.transform(X_val.values)\n",
    "    X_test.poly = poly.transform(X_test.values)\n",
    "\n",
    "    linreg_poly = LinearRegression()\n",
    "    linreg_poly.fit(X_train_poly, y_train)\n",
    "    print(f'Degree 2 Polynomial Regression train R^2: {linreg_poly.score(X_train_poly, y_train):.3f}')\n",
    "    print(f'Degree 2 Polynomial Regression validation R^2: {linreg_poly.score(X_val_poly, y_val):.3f}')\n",
    "    \n",
    "    return X_train_scaled, y_train, X_val_scaled, y_val"
   ]
  },
  {
   "cell_type": "code",
   "execution_count": 4,
   "metadata": {},
   "outputs": [],
   "source": [
    "def find_ridge_regularization(alpha_list, X_train_scaled, y_train, X_val_scaled, y_val):\n",
    "    '''\n",
    "    Fits ridge regression model with various potential regularization alphas (input in form of a list of alphas).\n",
    "    \n",
    "    Output to be evaluated for alpha associated with best validation R^2 score. \n",
    "    '''\n",
    "    for alpha in alpha_list:\n",
    "        ridge = Ridge(alpha=alpha)\n",
    "        ridge.fit(X_train_scaled, y_train)\n",
    "        print(f'Ridge regression train R^2 with alpha={alpha}: {ridge.score(X_train_scaled, y_train):.3f}')\n",
    "        print(f'Ridge regression validation R^2 with alpha={alpha}: {ridge.score(X_val_scaled, y_val):.3f} \\n')"
   ]
  },
  {
   "cell_type": "code",
   "execution_count": 5,
   "metadata": {},
   "outputs": [],
   "source": [
    "def cross_val_models(df, target, ridge_alpha, n_splits=5):\n",
    "    '''\n",
    "    Compiles linear regression models with cross validation to check for R^2 scores for three models:\n",
    "        Simple Linear Regression, Ridge Regression and Lasso.\n",
    "        \n",
    "    Inputs are dataframe, name of the target column, alpha selected for ridge regularization and number of splits \n",
    "        for K-Folds Cross Validation.\n",
    "        \n",
    "    Prints R^2 scores for each model.\n",
    "    '''\n",
    "    X, y = df.drop(target, axis=1), df[target]\n",
    "    \n",
    "    # hold out 20% of data for final testing\n",
    "    X_train_val, X_test, y_train_val, y_test = train_test_split(X, y, test_size=.2, random_state=10)\n",
    "    \n",
    "    # helps with kf generating indices below\n",
    "    X, y = np.array(X), np.array(y)\n",
    "    \n",
    "    # cross-validation\n",
    "    kf = KFold(n_splits=n_splits, shuffle=True, random_state=71)\n",
    "    \n",
    "    # to collect validation R^2 results for models\n",
    "    cv_linreg, cv_ridge, cv_lasso = [], [], []\n",
    "    \n",
    "    for train_ind, val_ind in kf.split(X_train_val, y_train_val):\n",
    "        \n",
    "        X_train, y_train = X[train_ind], y[train_ind]\n",
    "        X_val, y_val = X[val_ind], y[val_ind]\n",
    "        \n",
    "        # simple linear regression model\n",
    "        linreg = LinearRegression()        \n",
    "        linreg.fit(X_train, y_train)\n",
    "        cv_linreg.append(linreg.score(X_val, y_val).round(3))\n",
    "        \n",
    "        # ridge w/ scaling\n",
    "        ridge = Ridge(alpha=ridge_alpha)\n",
    "        \n",
    "        scaler = StandardScaler()\n",
    "        X_train_scaled = scaler.fit_transform(X_train)\n",
    "        X_val_scaled = scaler.transform(X_val)\n",
    "        \n",
    "        ridge.fit(X_train_scaled, y_train)\n",
    "        cv_ridge.append(ridge.score(X_val_scaled, y_val).round(3))\n",
    "        \n",
    "        # Lasso model\n",
    "        lasso = Lasso(alpha=10000)\n",
    "        lasso.fit(X_train_scaled, y_train)\n",
    "        cv_lasso.append(lasso.score(X_val_scaled, y_val).round(3))\n",
    "\n",
    "    print('Cross Validation - simple regression R^2 scores: ', cv_linreg)\n",
    "    print(f'CV simple regression mean R^2: {np.mean(cv_linreg):.3f} +- {np.std(cv_linreg):.3f} \\n')\n",
    "        \n",
    "    print('Cross Validation - ridge regression R^2 scores: ', cv_ridge)\n",
    "    print(f'CV ridge regression mean R^2: {np.mean(cv_ridge):.3f} +- {np.std(cv_ridge):.3f} \\n')\n",
    "    \n",
    "    print('Cross Validation - Lasso R^2 scores: ', cv_lasso)\n",
    "    print(f'CV Lasso mean R^2: {np.mean(cv_lasso):.3f} +- {np.std(cv_lasso):.3f}')\n",
    "    \n",
    "    return X_train_val, X_test, y_train_val, y_test"
   ]
  },
  {
   "cell_type": "code",
   "execution_count": 6,
   "metadata": {},
   "outputs": [],
   "source": [
    "def plot_lars_path(X, y, columns):\n",
    "    '''\n",
    "    Plots the LARS path to visualize the features that enter the Lasso model (nonzero coefficients) earliest in the path, \n",
    "        these are the ones that the model treats as most essential.\n",
    "        \n",
    "    Inputs are X dataframe, y target and list of features.\n",
    "    \n",
    "    Outputs LARS Path graph.\n",
    "    '''\n",
    "    \n",
    "    # Note: lars_path takes numpy matrices, not pandas dataframes\n",
    "    alphas, _, coefs = lars_path(X, y, method='lasso')\n",
    "    \n",
    "    xx = np.sum(np.abs(coefs.T), axis=1)\n",
    "    xx /= xx[-1]\n",
    "\n",
    "    plt.figure(figsize=(15,10))\n",
    "    plt.plot(xx, coefs.T)\n",
    "    ymin, ymax = plt.ylim()\n",
    "    plt.vlines(xx, ymin, ymax, linestyle='dashed')\n",
    "    plt.xlabel('|coef| / max|coef|')\n",
    "    plt.ylabel('Coefficients')\n",
    "    plt.title('LASSO Regularization Path using LARS')\n",
    "    plt.axis('tight')\n",
    "    plt.legend(columns)\n",
    "    plt.show()"
   ]
  },
  {
   "cell_type": "code",
   "execution_count": 7,
   "metadata": {},
   "outputs": [],
   "source": [
    "def check_shapes(X_train, y_train, X_test, y_test):\n",
    "    '''\n",
    "    Prints shapes of inputs for verification purposes (before final model testing).\n",
    "    '''\n",
    "    print(X_train.shape)\n",
    "    print(y_train.shape)\n",
    "    print(X_test.shape)\n",
    "    print(y_test.shape)"
   ]
  },
  {
   "cell_type": "code",
   "execution_count": 8,
   "metadata": {},
   "outputs": [],
   "source": [
    "def calculate_mae(final_model, X_test, y_true):\n",
    "    '''\n",
    "    Calculates Mean Absolute Error (MAE).\n",
    "    '''\n",
    "    y_pred = final_model.predict(X_test) # double check if using scaled X_test data\n",
    "    return np.mean(np.abs(y_pred - y_true)).round(3)"
   ]
  },
  {
   "cell_type": "markdown",
   "metadata": {},
   "source": [
    "## Read in data"
   ]
  },
  {
   "cell_type": "code",
   "execution_count": 9,
   "metadata": {},
   "outputs": [
    {
     "data": {
      "text/html": [
       "<div>\n",
       "<style scoped>\n",
       "    .dataframe tbody tr th:only-of-type {\n",
       "        vertical-align: middle;\n",
       "    }\n",
       "\n",
       "    .dataframe tbody tr th {\n",
       "        vertical-align: top;\n",
       "    }\n",
       "\n",
       "    .dataframe thead th {\n",
       "        text-align: right;\n",
       "    }\n",
       "</style>\n",
       "<table border=\"1\" class=\"dataframe\">\n",
       "  <thead>\n",
       "    <tr style=\"text-align: right;\">\n",
       "      <th></th>\n",
       "      <th>Yrs_at_company</th>\n",
       "      <th>Yrs_wk_exp</th>\n",
       "      <th>Total_comp</th>\n",
       "      <th>Cost_of_living(%)</th>\n",
       "      <th>company_age</th>\n",
       "      <th>employees</th>\n",
       "      <th>dmy_HR/mktg</th>\n",
       "      <th>dmy_ML/AI</th>\n",
       "      <th>dmy_analytics</th>\n",
       "      <th>dmy_engineering</th>\n",
       "      <th>dmy_mobile</th>\n",
       "      <th>dmy_product</th>\n",
       "      <th>dmy_ux</th>\n",
       "      <th>dmy_Private</th>\n",
       "    </tr>\n",
       "  </thead>\n",
       "  <tbody>\n",
       "    <tr>\n",
       "      <th>0</th>\n",
       "      <td>1.0</td>\n",
       "      <td>4</td>\n",
       "      <td>207000</td>\n",
       "      <td>39.5</td>\n",
       "      <td>17</td>\n",
       "      <td>12124</td>\n",
       "      <td>0</td>\n",
       "      <td>1</td>\n",
       "      <td>0</td>\n",
       "      <td>0</td>\n",
       "      <td>0</td>\n",
       "      <td>0</td>\n",
       "      <td>0</td>\n",
       "      <td>0</td>\n",
       "    </tr>\n",
       "    <tr>\n",
       "      <th>1</th>\n",
       "      <td>1.0</td>\n",
       "      <td>4</td>\n",
       "      <td>156000</td>\n",
       "      <td>39.5</td>\n",
       "      <td>17</td>\n",
       "      <td>12124</td>\n",
       "      <td>0</td>\n",
       "      <td>1</td>\n",
       "      <td>0</td>\n",
       "      <td>0</td>\n",
       "      <td>0</td>\n",
       "      <td>0</td>\n",
       "      <td>0</td>\n",
       "      <td>0</td>\n",
       "    </tr>\n",
       "    <tr>\n",
       "      <th>2</th>\n",
       "      <td>0.0</td>\n",
       "      <td>0</td>\n",
       "      <td>110000</td>\n",
       "      <td>39.5</td>\n",
       "      <td>17</td>\n",
       "      <td>12124</td>\n",
       "      <td>0</td>\n",
       "      <td>1</td>\n",
       "      <td>0</td>\n",
       "      <td>0</td>\n",
       "      <td>0</td>\n",
       "      <td>0</td>\n",
       "      <td>0</td>\n",
       "      <td>0</td>\n",
       "    </tr>\n",
       "    <tr>\n",
       "      <th>3</th>\n",
       "      <td>1.0</td>\n",
       "      <td>1</td>\n",
       "      <td>150000</td>\n",
       "      <td>39.5</td>\n",
       "      <td>17</td>\n",
       "      <td>12124</td>\n",
       "      <td>0</td>\n",
       "      <td>1</td>\n",
       "      <td>0</td>\n",
       "      <td>0</td>\n",
       "      <td>0</td>\n",
       "      <td>0</td>\n",
       "      <td>0</td>\n",
       "      <td>0</td>\n",
       "    </tr>\n",
       "    <tr>\n",
       "      <th>4</th>\n",
       "      <td>0.5</td>\n",
       "      <td>3</td>\n",
       "      <td>210000</td>\n",
       "      <td>39.5</td>\n",
       "      <td>25</td>\n",
       "      <td>798000</td>\n",
       "      <td>0</td>\n",
       "      <td>1</td>\n",
       "      <td>0</td>\n",
       "      <td>0</td>\n",
       "      <td>0</td>\n",
       "      <td>0</td>\n",
       "      <td>0</td>\n",
       "      <td>0</td>\n",
       "    </tr>\n",
       "  </tbody>\n",
       "</table>\n",
       "</div>"
      ],
      "text/plain": [
       "   Yrs_at_company  Yrs_wk_exp  Total_comp  Cost_of_living(%)  company_age  \\\n",
       "0             1.0           4      207000               39.5           17   \n",
       "1             1.0           4      156000               39.5           17   \n",
       "2             0.0           0      110000               39.5           17   \n",
       "3             1.0           1      150000               39.5           17   \n",
       "4             0.5           3      210000               39.5           25   \n",
       "\n",
       "   employees  dmy_HR/mktg  dmy_ML/AI  dmy_analytics  dmy_engineering  \\\n",
       "0      12124            0          1              0                0   \n",
       "1      12124            0          1              0                0   \n",
       "2      12124            0          1              0                0   \n",
       "3      12124            0          1              0                0   \n",
       "4     798000            0          1              0                0   \n",
       "\n",
       "   dmy_mobile  dmy_product  dmy_ux  dmy_Private  \n",
       "0           0            0       0            0  \n",
       "1           0            0       0            0  \n",
       "2           0            0       0            0  \n",
       "3           0            0       0            0  \n",
       "4           0            0       0            0  "
      ]
     },
     "execution_count": 9,
     "metadata": {},
     "output_type": "execute_result"
    }
   ],
   "source": [
    "df = pd.read_pickle('df.pkl')\n",
    "df.head()"
   ]
  },
  {
   "cell_type": "code",
   "execution_count": 10,
   "metadata": {},
   "outputs": [
    {
     "data": {
      "text/plain": [
       "(658, 14)"
      ]
     },
     "execution_count": 10,
     "metadata": {},
     "output_type": "execute_result"
    }
   ],
   "source": [
    "df.shape"
   ]
  },
  {
   "cell_type": "code",
   "execution_count": 11,
   "metadata": {},
   "outputs": [
    {
     "data": {
      "text/html": [
       "<div>\n",
       "<style scoped>\n",
       "    .dataframe tbody tr th:only-of-type {\n",
       "        vertical-align: middle;\n",
       "    }\n",
       "\n",
       "    .dataframe tbody tr th {\n",
       "        vertical-align: top;\n",
       "    }\n",
       "\n",
       "    .dataframe thead th {\n",
       "        text-align: right;\n",
       "    }\n",
       "</style>\n",
       "<table border=\"1\" class=\"dataframe\">\n",
       "  <thead>\n",
       "    <tr style=\"text-align: right;\">\n",
       "      <th></th>\n",
       "      <th>Yrs_at_company</th>\n",
       "      <th>Yrs_wk_exp</th>\n",
       "      <th>Total_comp</th>\n",
       "      <th>Cost_of_living(%)</th>\n",
       "      <th>company_age</th>\n",
       "      <th>employees</th>\n",
       "      <th>dmy_HR/mktg</th>\n",
       "      <th>dmy_ML/AI</th>\n",
       "      <th>dmy_analytics</th>\n",
       "      <th>dmy_engineering</th>\n",
       "      <th>dmy_mobile</th>\n",
       "      <th>dmy_product</th>\n",
       "      <th>dmy_ux</th>\n",
       "      <th>dmy_Private</th>\n",
       "    </tr>\n",
       "  </thead>\n",
       "  <tbody>\n",
       "    <tr>\n",
       "      <th>count</th>\n",
       "      <td>658.000000</td>\n",
       "      <td>658.000000</td>\n",
       "      <td>658.000000</td>\n",
       "      <td>658.000000</td>\n",
       "      <td>658.000000</td>\n",
       "      <td>6.580000e+02</td>\n",
       "      <td>658.000000</td>\n",
       "      <td>658.000000</td>\n",
       "      <td>658.000000</td>\n",
       "      <td>658.000000</td>\n",
       "      <td>658.000000</td>\n",
       "      <td>658.000000</td>\n",
       "      <td>658.00000</td>\n",
       "      <td>658.000000</td>\n",
       "    </tr>\n",
       "    <tr>\n",
       "      <th>mean</th>\n",
       "      <td>2.007371</td>\n",
       "      <td>4.992401</td>\n",
       "      <td>229401.215805</td>\n",
       "      <td>41.979027</td>\n",
       "      <td>34.823708</td>\n",
       "      <td>2.175462e+05</td>\n",
       "      <td>0.004559</td>\n",
       "      <td>0.674772</td>\n",
       "      <td>0.074468</td>\n",
       "      <td>0.068389</td>\n",
       "      <td>0.016717</td>\n",
       "      <td>0.042553</td>\n",
       "      <td>0.00304</td>\n",
       "      <td>0.060790</td>\n",
       "    </tr>\n",
       "    <tr>\n",
       "      <th>std</th>\n",
       "      <td>2.480702</td>\n",
       "      <td>4.354001</td>\n",
       "      <td>106916.360709</td>\n",
       "      <td>24.323866</td>\n",
       "      <td>29.332232</td>\n",
       "      <td>3.575865e+05</td>\n",
       "      <td>0.067420</td>\n",
       "      <td>0.468816</td>\n",
       "      <td>0.262731</td>\n",
       "      <td>0.252604</td>\n",
       "      <td>0.128308</td>\n",
       "      <td>0.202001</td>\n",
       "      <td>0.05509</td>\n",
       "      <td>0.239127</td>\n",
       "    </tr>\n",
       "    <tr>\n",
       "      <th>min</th>\n",
       "      <td>0.000000</td>\n",
       "      <td>0.000000</td>\n",
       "      <td>36000.000000</td>\n",
       "      <td>-21.500000</td>\n",
       "      <td>2.000000</td>\n",
       "      <td>3.000000e+02</td>\n",
       "      <td>0.000000</td>\n",
       "      <td>0.000000</td>\n",
       "      <td>0.000000</td>\n",
       "      <td>0.000000</td>\n",
       "      <td>0.000000</td>\n",
       "      <td>0.000000</td>\n",
       "      <td>0.00000</td>\n",
       "      <td>0.000000</td>\n",
       "    </tr>\n",
       "    <tr>\n",
       "      <th>25%</th>\n",
       "      <td>0.500000</td>\n",
       "      <td>2.000000</td>\n",
       "      <td>160500.000000</td>\n",
       "      <td>18.800000</td>\n",
       "      <td>16.000000</td>\n",
       "      <td>1.500000e+04</td>\n",
       "      <td>0.000000</td>\n",
       "      <td>0.000000</td>\n",
       "      <td>0.000000</td>\n",
       "      <td>0.000000</td>\n",
       "      <td>0.000000</td>\n",
       "      <td>0.000000</td>\n",
       "      <td>0.00000</td>\n",
       "      <td>0.000000</td>\n",
       "    </tr>\n",
       "    <tr>\n",
       "      <th>50%</th>\n",
       "      <td>1.000000</td>\n",
       "      <td>4.000000</td>\n",
       "      <td>207500.000000</td>\n",
       "      <td>51.400000</td>\n",
       "      <td>25.000000</td>\n",
       "      <td>1.102000e+05</td>\n",
       "      <td>0.000000</td>\n",
       "      <td>1.000000</td>\n",
       "      <td>0.000000</td>\n",
       "      <td>0.000000</td>\n",
       "      <td>0.000000</td>\n",
       "      <td>0.000000</td>\n",
       "      <td>0.00000</td>\n",
       "      <td>0.000000</td>\n",
       "    </tr>\n",
       "    <tr>\n",
       "      <th>75%</th>\n",
       "      <td>3.000000</td>\n",
       "      <td>7.000000</td>\n",
       "      <td>265000.000000</td>\n",
       "      <td>62.500000</td>\n",
       "      <td>45.000000</td>\n",
       "      <td>1.511630e+05</td>\n",
       "      <td>0.000000</td>\n",
       "      <td>1.000000</td>\n",
       "      <td>0.000000</td>\n",
       "      <td>0.000000</td>\n",
       "      <td>0.000000</td>\n",
       "      <td>0.000000</td>\n",
       "      <td>0.00000</td>\n",
       "      <td>0.000000</td>\n",
       "    </tr>\n",
       "    <tr>\n",
       "      <th>max</th>\n",
       "      <td>27.000000</td>\n",
       "      <td>36.000000</td>\n",
       "      <td>900000.000000</td>\n",
       "      <td>83.000000</td>\n",
       "      <td>175.000000</td>\n",
       "      <td>2.200000e+06</td>\n",
       "      <td>1.000000</td>\n",
       "      <td>1.000000</td>\n",
       "      <td>1.000000</td>\n",
       "      <td>1.000000</td>\n",
       "      <td>1.000000</td>\n",
       "      <td>1.000000</td>\n",
       "      <td>1.00000</td>\n",
       "      <td>1.000000</td>\n",
       "    </tr>\n",
       "  </tbody>\n",
       "</table>\n",
       "</div>"
      ],
      "text/plain": [
       "       Yrs_at_company  Yrs_wk_exp     Total_comp  Cost_of_living(%)  \\\n",
       "count      658.000000  658.000000     658.000000         658.000000   \n",
       "mean         2.007371    4.992401  229401.215805          41.979027   \n",
       "std          2.480702    4.354001  106916.360709          24.323866   \n",
       "min          0.000000    0.000000   36000.000000         -21.500000   \n",
       "25%          0.500000    2.000000  160500.000000          18.800000   \n",
       "50%          1.000000    4.000000  207500.000000          51.400000   \n",
       "75%          3.000000    7.000000  265000.000000          62.500000   \n",
       "max         27.000000   36.000000  900000.000000          83.000000   \n",
       "\n",
       "       company_age     employees  dmy_HR/mktg   dmy_ML/AI  dmy_analytics  \\\n",
       "count   658.000000  6.580000e+02   658.000000  658.000000     658.000000   \n",
       "mean     34.823708  2.175462e+05     0.004559    0.674772       0.074468   \n",
       "std      29.332232  3.575865e+05     0.067420    0.468816       0.262731   \n",
       "min       2.000000  3.000000e+02     0.000000    0.000000       0.000000   \n",
       "25%      16.000000  1.500000e+04     0.000000    0.000000       0.000000   \n",
       "50%      25.000000  1.102000e+05     0.000000    1.000000       0.000000   \n",
       "75%      45.000000  1.511630e+05     0.000000    1.000000       0.000000   \n",
       "max     175.000000  2.200000e+06     1.000000    1.000000       1.000000   \n",
       "\n",
       "       dmy_engineering  dmy_mobile  dmy_product     dmy_ux  dmy_Private  \n",
       "count       658.000000  658.000000   658.000000  658.00000   658.000000  \n",
       "mean          0.068389    0.016717     0.042553    0.00304     0.060790  \n",
       "std           0.252604    0.128308     0.202001    0.05509     0.239127  \n",
       "min           0.000000    0.000000     0.000000    0.00000     0.000000  \n",
       "25%           0.000000    0.000000     0.000000    0.00000     0.000000  \n",
       "50%           0.000000    0.000000     0.000000    0.00000     0.000000  \n",
       "75%           0.000000    0.000000     0.000000    0.00000     0.000000  \n",
       "max           1.000000    1.000000     1.000000    1.00000     1.000000  "
      ]
     },
     "execution_count": 11,
     "metadata": {},
     "output_type": "execute_result"
    }
   ],
   "source": [
    "df.describe()"
   ]
  },
  {
   "cell_type": "markdown",
   "metadata": {},
   "source": [
    "## Linear Regression modeling \n",
    "### Simple Validation\n",
    "- Some observations:\n",
    " * Linear Regression and Ridge Regression are overfitting\n",
    " * Lasso looks good in this simple validation world\n",
    " * Polynomial model is not a happy one..."
   ]
  },
  {
   "cell_type": "code",
   "execution_count": 12,
   "metadata": {},
   "outputs": [
    {
     "name": "stdout",
     "output_type": "stream",
     "text": [
      "Linear Regression train R^2: 0.251\n",
      "Linear Regression validation R^2: 0.152 \n",
      "\n",
      "Linear Regression coefficient results:\n",
      "Yrs_at_company : -5080.32\n",
      "Yrs_wk_exp : 11968.66\n",
      "Cost_of_living(%) : 679.48\n",
      "company_age : -728.10\n",
      "employees : 0.00\n",
      "dmy_HR/mktg : -34611.41\n",
      "dmy_ML/AI : 32200.70\n",
      "dmy_analytics : -8285.96\n",
      "dmy_engineering : -965.26\n",
      "dmy_mobile : 6893.88\n",
      "dmy_product : 41030.06\n",
      "dmy_ux : 0.00\n",
      "dmy_Private : 1744.63\n",
      "\n",
      "\n",
      "Ridge Regression train R^2: 0.251\n",
      "Ridge Regression validation R^2: 0.153 \n",
      "\n",
      "Ridge Regression coefficient results:\n",
      "Yrs_at_company : -11196.81\n",
      "Yrs_wk_exp : 48758.44\n",
      "Cost_of_living(%) : 16315.26\n",
      "company_age : -18726.30\n",
      "employees : 971.08\n",
      "dmy_HR/mktg : -1740.18\n",
      "dmy_ML/AI : 14942.73\n",
      "dmy_analytics : -2117.41\n",
      "dmy_engineering : -273.95\n",
      "dmy_mobile : 833.20\n",
      "dmy_product : 8732.12\n",
      "dmy_ux : 0.00\n",
      "dmy_Private : 457.11\n",
      "\n",
      "\n",
      "Lasso train R^2: 0.191\n",
      "Lasso validation R^2: 0.203 \n",
      "\n",
      "Lasso coefficient results:\n",
      "Yrs_at_company : -0.00\n",
      "Yrs_wk_exp : 30427.24\n",
      "Cost_of_living(%) : 6612.89\n",
      "company_age : -9757.48\n",
      "employees : 0.00\n",
      "dmy_HR/mktg : -0.00\n",
      "dmy_ML/AI : 0.00\n",
      "dmy_analytics : -0.00\n",
      "dmy_engineering : -0.00\n",
      "dmy_mobile : -0.00\n",
      "dmy_product : 0.00\n",
      "dmy_ux : 0.00\n",
      "dmy_Private : 0.00\n",
      "\n",
      "\n",
      "Degree 2 Polynomial Regression train R^2: 0.418\n",
      "Degree 2 Polynomial Regression validation R^2: -0.230\n"
     ]
    },
    {
     "name": "stderr",
     "output_type": "stream",
     "text": [
      "/opt/anaconda3/envs/metis/lib/python3.7/site-packages/ipykernel_launcher.py:55: UserWarning: Pandas doesn't allow columns to be created via a new attribute name - see https://pandas.pydata.org/pandas-docs/stable/indexing.html#attribute-access\n"
     ]
    }
   ],
   "source": [
    "X_train_scaled, y_train, X_val_scaled, y_val = simple_validation_models(df, 'Total_comp')"
   ]
  },
  {
   "cell_type": "markdown",
   "metadata": {},
   "source": [
    "## Determine strength of regularization (alpha) for Ridge Regression"
   ]
  },
  {
   "cell_type": "code",
   "execution_count": 13,
   "metadata": {},
   "outputs": [
    {
     "name": "stdout",
     "output_type": "stream",
     "text": [
      "Ridge regression train R^2 with alpha=1: 0.251\n",
      "Ridge regression validation R^2 with alpha=1: 0.153 \n",
      "\n",
      "Ridge regression train R^2 with alpha=100: 0.234\n",
      "Ridge regression validation R^2 with alpha=100: 0.198 \n",
      "\n",
      "Ridge regression train R^2 with alpha=150: 0.223\n",
      "Ridge regression validation R^2 with alpha=150: 0.202 \n",
      "\n",
      "Ridge regression train R^2 with alpha=500: 0.159\n",
      "Ridge regression validation R^2 with alpha=500: 0.172 \n",
      "\n"
     ]
    }
   ],
   "source": [
    "alpha_list = [1, 100, 150, 500]\n",
    "\n",
    "find_ridge_regularization(alpha_list, X_train_scaled, y_train, X_val_scaled, y_val )"
   ]
  },
  {
   "cell_type": "markdown",
   "metadata": {},
   "source": [
    "- **alpha=150** has highest validation R^2 in the alpha list (0.202) -- that will be our regularization strength!"
   ]
  },
  {
   "cell_type": "code",
   "execution_count": 14,
   "metadata": {},
   "outputs": [],
   "source": [
    "ridge_alpha = 150"
   ]
  },
  {
   "cell_type": "markdown",
   "metadata": {},
   "source": [
    "## Cross Validation for model selection\n",
    "- Ridge Regression R^2 score is the highest with CV -- that will be our model!"
   ]
  },
  {
   "cell_type": "code",
   "execution_count": 15,
   "metadata": {},
   "outputs": [
    {
     "name": "stdout",
     "output_type": "stream",
     "text": [
      "Cross Validation - simple regression R^2 scores:  [0.027, 0.251, 0.04, 0.104, 0.245]\n",
      "CV simple regression mean R^2: 0.133 +- 0.097 \n",
      "\n",
      "Cross Validation - ridge regression R^2 scores:  [0.097, 0.179, 0.08, 0.147, 0.209]\n",
      "CV ridge regression mean R^2: 0.142 +- 0.048 \n",
      "\n",
      "Cross Validation - Lasso R^2 scores:  [0.118, 0.172, 0.048, 0.15, 0.198]\n",
      "CV Lasso mean R^2: 0.137 +- 0.052\n"
     ]
    }
   ],
   "source": [
    "X_train_val, X_test, y_train_val, y_test = cross_val_models(df, 'Total_comp', ridge_alpha)"
   ]
  },
  {
   "cell_type": "markdown",
   "metadata": {},
   "source": [
    "## Using LARS Path to study feature importance"
   ]
  },
  {
   "cell_type": "code",
   "execution_count": 16,
   "metadata": {},
   "outputs": [
    {
     "data": {
      "image/png": "[encoded data removed]",
      "text/plain": [
       "<Figure size 1080x720 with 1 Axes>"
      ]
     },
     "metadata": {
      "needs_background": "light"
     },
     "output_type": "display_data"
    }
   ],
   "source": [
    "selected_columns = ['Yrs_at_company', 'Yrs_wk_exp', 'Cost_of_living(%)', 'company_age', 'employees', 'dmy_HR/mktg', \n",
    "                    'dmy_ML/AI', 'dmy_analytics','dmy_engineering', 'dmy_mobile', 'dmy_product', 'dmy_ux', 'dmy_Private']\n",
    "\n",
    "plot_lars_path(X_train_scaled, y_train, selected_columns)"
   ]
  },
  {
   "cell_type": "markdown",
   "metadata": {},
   "source": [
    "## Final testing!"
   ]
  },
  {
   "cell_type": "code",
   "execution_count": 17,
   "metadata": {},
   "outputs": [
    {
     "name": "stdout",
     "output_type": "stream",
     "text": [
      "(526, 13)\n",
      "(526,)\n",
      "(132, 13)\n",
      "(132,)\n"
     ]
    }
   ],
   "source": [
    "check_shapes(X_train_val, y_train_val, X_test, y_test)"
   ]
  },
  {
   "cell_type": "code",
   "execution_count": 18,
   "metadata": {},
   "outputs": [
    {
     "name": "stdout",
     "output_type": "stream",
     "text": [
      "Ridge Regression final test R^2: 0.236\n"
     ]
    }
   ],
   "source": [
    "ridge_final = Ridge(alpha=ridge_alpha)\n",
    "scaler = StandardScaler()\n",
    "X_train_val_scaled = scaler.fit_transform(X_train_val)\n",
    "X_test_scaled = scaler.transform(X_test)\n",
    "ridge_final.fit(X_train_val_scaled, y_train_val)\n",
    "print(f'Ridge Regression final test R^2: {ridge_final.score(X_test_scaled, y_test):.3f}')"
   ]
  },
  {
   "cell_type": "code",
   "execution_count": 19,
   "metadata": {},
   "outputs": [
    {
     "data": {
      "text/plain": [
       "64014.188"
      ]
     },
     "execution_count": 19,
     "metadata": {},
     "output_type": "execute_result"
    }
   ],
   "source": [
    "calculate_mae(ridge_final, X_test_scaled, y_test)"
   ]
  },
  {
   "cell_type": "markdown",
   "metadata": {},
   "source": [
    "## Interpreting Ridge model coefficient results\n",
    "- Use standard deviations to return Ridge scaled coefficients to interpretable figures\n",
    "- Ridge Regression coefficient results (from above):  \n",
    "Yrs_at_company : -11196.81  \n",
    "Yrs_wk_exp : 48758.44  \n",
    "Cost_of_living(%) : 16315.26  \n",
    "company_age : -18726.30  \n",
    "employees : 971.08  \n",
    "dmy_HR/mktg : -1740.18  \n",
    "dmy_ML/AI : 14942.73  \n",
    "dmy_analytics : -2117.41  \n",
    "dmy_engineering : -273.95  \n",
    "dmy_mobile : 833.20  \n",
    "dmy_product : 8732.12  \n",
    "dmy_ux : 0.00  \n",
    "dmy_Private : 457.11  "
   ]
  },
  {
   "cell_type": "code",
   "execution_count": 20,
   "metadata": {},
   "outputs": [
    {
     "data": {
      "text/plain": [
       "Yrs_at_company            2.48\n",
       "Yrs_wk_exp                4.35\n",
       "Total_comp           106916.36\n",
       "Cost_of_living(%)        24.32\n",
       "company_age              29.33\n",
       "employees            357586.46\n",
       "dmy_HR/mktg               0.07\n",
       "dmy_ML/AI                 0.47\n",
       "dmy_analytics             0.26\n",
       "dmy_engineering           0.25\n",
       "dmy_mobile                0.13\n",
       "dmy_product               0.20\n",
       "dmy_ux                    0.06\n",
       "dmy_Private               0.24\n",
       "dtype: float64"
      ]
     },
     "execution_count": 20,
     "metadata": {},
     "output_type": "execute_result"
    }
   ],
   "source": [
    "df.std().round(2)"
   ]
  },
  {
   "cell_type": "code",
   "execution_count": 21,
   "metadata": {},
   "outputs": [
    {
     "data": {
      "text/plain": [
       "-4514.842741935484"
      ]
     },
     "execution_count": 21,
     "metadata": {},
     "output_type": "execute_result"
    }
   ],
   "source": [
    "# Yrs_at_company : \n",
    "-11196.81/2.48"
   ]
  },
  {
   "cell_type": "code",
   "execution_count": 22,
   "metadata": {},
   "outputs": [
    {
     "data": {
      "text/plain": [
       "11208.836781609198"
      ]
     },
     "execution_count": 22,
     "metadata": {},
     "output_type": "execute_result"
    }
   ],
   "source": [
    "# Yrs_wk_exp : \n",
    "48758.44/4.35"
   ]
  },
  {
   "cell_type": "code",
   "execution_count": 23,
   "metadata": {},
   "outputs": [
    {
     "data": {
      "text/plain": [
       "670.8577302631579"
      ]
     },
     "execution_count": 23,
     "metadata": {},
     "output_type": "execute_result"
    }
   ],
   "source": [
    "# Cost_of_living(%) : \n",
    "16315.26/24.32"
   ]
  },
  {
   "cell_type": "code",
   "execution_count": 24,
   "metadata": {},
   "outputs": [
    {
     "data": {
      "text/plain": [
       "-638.4691442209343"
      ]
     },
     "execution_count": 24,
     "metadata": {},
     "output_type": "execute_result"
    }
   ],
   "source": [
    "# company_age : \n",
    "-18726.30/29.33"
   ]
  }
 ],
 "metadata": {
  "kernelspec": {
   "display_name": "Python [conda env:metis] *",
   "language": "python",
   "name": "conda-env-metis-py"
  },
  "language_info": {
   "codemirror_mode": {
    "name": "ipython",
    "version": 3
   },
   "file_extension": ".py",
   "mimetype": "text/x-python",
   "name": "python",
   "nbconvert_exporter": "python",
   "pygments_lexer": "ipython3",
   "version": "3.7.4"
  }
 },
 "nbformat": 4,
 "nbformat_minor": 4
}
